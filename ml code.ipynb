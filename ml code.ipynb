{
 "cells": [
  {
   "cell_type": "code",
   "execution_count": null,
   "metadata": {
    "vscode": {
     "languageId": "plaintext"
    }
   },
   "outputs": [],
   "source": [
    "!pip install catboost category_encoders"
   ]
  },
  {
   "cell_type": "code",
   "execution_count": null,
   "metadata": {
    "vscode": {
     "languageId": "plaintext"
    }
   },
   "outputs": [],
   "source": [
    "import pandas as pd\n",
    "import numpy as np\n",
    "from sklearn.model_selection import train_test_split, cross_val_score, learning_curve\n",
    "from sklearn.preprocessing import StandardScaler\n",
    "from sklearn.metrics import mean_squared_error, r2_score\n",
    "import catboost as cb\n",
    "import joblib\n",
    "from google.colab import drive\n",
    "import os\n",
    "import matplotlib.pyplot as plt\n",
    "\n",
    "# Mount Google Drive\n",
    "drive.mount('/content/drive')\n",
    "\n",
    "# Define file paths\n",
    "base_path = '/content/drive/My Drive/BTP/'\n",
    "file_names = ['output_PA2R.csv', 'output_PA1B.csv', 'output_HD2R.csv', 'output_HD1C.csv', 'output_HD1B.csv']\n",
    "file_paths = [os.path.join(base_path, file_name) for file_name in file_names]\n",
    "column_names = ['C', 'LD', 'DI', 'L', 'L_CYL', 'TL', 'DO', 'SA_D', 'SA_CYL', 'SA', 'PO', 'M_NAME', 'PER_FIT', 'PR_NCC', 'MC']\n",
    "\n",
    "# Load data with error handling and update M_NAME\n",
    "data_frames = []\n",
    "for file_path, file_name in zip(file_paths, file_names):\n",
    "    try:\n",
    "        df = pd.read_csv(file_path, names=column_names, header=0)\n",
    "        # Extract material name from the file name (e.g., 'output_PA2R.csv' -> 'PA2R')\n",
    "        material_name = file_name.split('_')[1].split('.')[0]\n",
    "        # Update M_NAME column with the extracted material name\n",
    "        df['M_NAME'] = material_name\n",
    "        data_frames.append(df)\n",
    "    except Exception as e:\n",
    "        print(f\"Error loading {file_path}: {e}\")"
   ]
  },
  {
   "cell_type": "code",
   "execution_count": null,
   "metadata": {
    "vscode": {
     "languageId": "plaintext"
    }
   },
   "outputs": [],
   "source": [
    "# Combine the data frames\n",
    "data = pd.concat(data_frames, ignore_index=True)\n",
    "\n",
    "# Define important features and target columns\n",
    "important_features = ['C', 'LD', 'DI', 'L_CYL', 'TL', 'PO', 'M_NAME']\n",
    "target_columns = ['PER_FIT', 'PR_NCC', 'MC']\n",
    "\n",
    "# Split data into features and targets\n",
    "X = data[important_features]\n",
    "y_per_fit = data['PER_FIT']\n",
    "y_pr_ncc = data['PR_NCC']\n",
    "y_mc = data['MC']"
   ]
  },
  {
   "cell_type": "code",
   "execution_count": null,
   "metadata": {
    "vscode": {
     "languageId": "plaintext"
    }
   },
   "outputs": [],
   "source": [
    "from category_encoders import LeaveOneOutEncoder\n",
    "\n",
    "# Apply Leave-One-Out encoding to the categorical feature 'M_NAME'\n",
    "encoder = LeaveOneOutEncoder(cols=['M_NAME'])\n",
    "X_encoded = encoder.fit_transform(X, data['PER_FIT'])  # Use one of the target columns for encoding\n",
    "\n",
    "# Split data into train and test sets\n",
    "X_train, X_test, y_train_all, y_test_all = train_test_split(X_encoded, data[target_columns], test_size=0.2, random_state=42)\n",
    "\n",
    "# Apply scaling only to numerical features\n",
    "numerical_features = ['C', 'LD', 'DI', 'L_CYL', 'TL', 'PO']\n",
    "scaler = StandardScaler()\n",
    "X_train[numerical_features] = scaler.fit_transform(X_train[numerical_features])\n",
    "X_test[numerical_features] = scaler.transform(X_test[numerical_features])\n",
    "\n",
    "# Save scaler and encoder for later use\n",
    "joblib.dump(scaler, os.path.join(base_path, 'scaler_X.pkl'))\n",
    "joblib.dump(encoder, os.path.join(base_path, 'encoder_X.pkl'))\n"
   ]
  },
  {
   "cell_type": "code",
   "execution_count": null,
   "metadata": {
    "vscode": {
     "languageId": "plaintext"
    }
   },
   "outputs": [],
   "source": [
    "# Train and evaluate CatBoost models for each target variable\n",
    "for target in target_columns:\n",
    "    y_train = y_train_all[target]\n",
    "    y_test = y_test_all[target]\n",
    "\n",
    "    model = cb.CatBoostRegressor(random_state=42, verbose=0)\n",
    "    model.fit(X_train, y_train)\n",
    "    y_pred = model.predict(X_test)\n",
    "\n",
    "    mse = mean_squared_error(y_test, y_pred)\n",
    "    r2 = r2_score(y_test, y_pred)\n",
    "    cv_scores = cross_val_score(model, X_train, y_train, cv=5, scoring='r2')\n",
    "\n",
    "    print(f'Target: {target}, CV R^2: {cv_scores.mean()}, MSE: {mse}, R^2: {r2}')\n",
    "\n",
    "    # Save the model\n",
    "    joblib.dump(model, os.path.join(base_path, f'model_{target}.pkl'))\n",
    "\n",
    "    # Plot learning curves\n",
    "    plt.figure()\n",
    "    train_sizes, train_scores, test_scores = learning_curve(model, X_train, y_train, cv=5, scoring='r2')\n",
    "    train_scores_mean = np.mean(train_scores, axis=1)\n",
    "    test_scores_mean = np.mean(test_scores, axis=1)\n",
    "    plt.plot(train_sizes, train_scores_mean, label='Training score')\n",
    "    plt.plot(train_sizes, test_scores_mean, label='Cross-validation score')\n",
    "    plt.title(f'Learning Curve for {target}')\n",
    "    plt.xlabel('Training examples')\n",
    "    plt.ylabel('R² score')\n",
    "    plt.legend(loc='best')\n",
    "    plt.grid()\n",
    "    plt.show()\n",
    "\n",
    "    # Actual vs. Predicted\n",
    "    plt.figure(figsize=(10, 6))\n",
    "    plt.scatter(y_test, y_pred, alpha=0.7)\n",
    "    plt.plot([min(y_test), max(y_test)], [min(y_test), max(y_test)], 'r--')\n",
    "    plt.xlabel('Actual Values')\n",
    "    plt.ylabel('Predicted Values')\n",
    "    plt.title(f'Actual vs. Predicted for {target}')\n",
    "    plt.grid()\n",
    "    plt.show()\n",
    "\n",
    "    # Plot residuals\n",
    "    plt.figure()\n",
    "    plt.scatter(y_test, y_test - y_pred)\n",
    "    plt.hlines(y=0, xmin=min(y_test), xmax=max(y_test))\n",
    "    plt.xlabel('Actual values')\n",
    "    plt.ylabel('Residuals')\n",
    "    plt.title(f'Residuals Plot for {target}')\n",
    "    plt.grid()\n",
    "    plt.show()\n",
    "\n",
    "    # Distribution of Residuals\n",
    "    residuals = y_test - y_pred\n",
    "    plt.figure(figsize=(10, 6))\n",
    "    sns.histplot(residuals, kde=True)\n",
    "    plt.xlabel('Residuals')\n",
    "    plt.title(f'Distribution of Residuals for {target}')\n",
    "    plt.grid()\n",
    "    plt.show()\n",
    "\n",
    "    # Plot feature importance\n",
    "    feature_importances = model.get_feature_importance()\n",
    "    plt.figure()\n",
    "    plt.barh(X_train.columns, feature_importances)\n",
    "    plt.xlabel('Feature Importance')\n",
    "    plt.title(f'Feature Importance for {target}')\n",
    "    plt.grid()\n",
    "    plt.show()\n"
   ]
  },
  {
   "cell_type": "code",
   "execution_count": null,
   "metadata": {
    "vscode": {
     "languageId": "plaintext"
    }
   },
   "outputs": [],
   "source": [
    "!pip install category_encoders"
   ]
  },
  {
   "cell_type": "code",
   "execution_count": null,
   "metadata": {
    "vscode": {
     "languageId": "plaintext"
    }
   },
   "outputs": [],
   "source": [
    "import pandas as pd\n",
    "import joblib\n",
    "from sklearn.preprocessing import StandardScaler\n",
    "from category_encoders import LeaveOneOutEncoder\n",
    "import os\n",
    "\n",
    "# Define the input features based on your problem\n",
    "input_data = {\n",
    "    'C': 1,\n",
    "    'LD': 2,\n",
    "    'DI': 91.3913,\n",
    "    'TL': 5,\n",
    "    'L_CYL': 29110.8648,\n",
    "    'PO': 201\n",
    "}\n",
    "\n",
    "# Possible values for M_NAME (note: this is just an example list)\n",
    "materials = ['PA1B', 'PA2R', 'HD2R', 'HD1B', 'HD1C']\n",
    "\n",
    "# Define base path (update this with the actual path)\n",
    "base_path = '/content/drive/My Drive/BTP/'\n",
    "\n",
    "# Load the trained models\n",
    "models = {}\n",
    "for target in ['MC', 'PR_NCC', 'PER_FIT']:\n",
    "    models[target] = joblib.load(os.path.join(base_path, f'model_{target}.pkl'))\n",
    "\n",
    "# Load the scaler and encoder\n",
    "scaler = joblib.load(os.path.join(base_path, 'scaler_X.pkl'))\n",
    "encoder = joblib.load(os.path.join(base_path, 'encoder_X.pkl'))\n",
    "\n",
    "# Initialize variables to track the optimal material\n",
    "optimal_material = None\n",
    "min_mc = float('inf')\n",
    "optimal_predictions = None\n",
    "\n",
    "# Define numerical features based on your problem\n",
    "numerical_features = ['C', 'LD', 'DI', 'L_CYL', 'TL', 'PO']\n",
    "\n",
    "# Iterate over the possible values of M_NAME\n",
    "for material in materials:\n",
    "    input_data['M_NAME'] = material\n",
    "    input_df = pd.DataFrame(input_data, index=[0])\n",
    "\n",
    "    # Apply scaling to numerical features\n",
    "    input_df[numerical_features] = scaler.transform(input_df[numerical_features])\n",
    "\n",
    "    # Apply encoding\n",
    "    input_df = encoder.transform(input_df)\n",
    "\n",
    "    # Predict using the models\n",
    "    mc_pred = models['MC'].predict(input_df)[0]\n",
    "    pr_ncc_pred = models['PR_NCC'].predict(input_df)[0]\n",
    "    per_fit_pred = models['PER_FIT'].predict(input_df)[0]\n",
    "\n",
    "    # Check the constraint for PR_NCC\n",
    "    if pr_ncc_pred < 6:\n",
    "        # Update the optimal material if the current one has a lower MC\n",
    "        if mc_pred < min_mc:\n",
    "            min_mc = mc_pred\n",
    "            optimal_material = material\n",
    "            optimal_predictions = {\n",
    "                'MC': mc_pred,\n",
    "                'PR_NCC': pr_ncc_pred,\n",
    "                'PER_FIT': per_fit_pred,\n",
    "                'M_NAME': material\n",
    "            }\n",
    "\n",
    "# Print the optimal material and the corresponding predictions\n",
    "print(f\"Optimal Material: {optimal_material}\")\n",
    "print(f\"Predictions: {optimal_predictions}\")\n",
    "\n"
   ]
  }
 ],
 "metadata": {
  "language_info": {
   "name": "python"
  }
 },
 "nbformat": 4,
 "nbformat_minor": 2
}
